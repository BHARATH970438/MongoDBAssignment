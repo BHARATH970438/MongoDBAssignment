{
 "cells": [
  {
   "attachments": {},
   "cell_type": "markdown",
   "metadata": {},
   "source": [
    "Q1. What is MongoDB? Explain non-relational databases in short. In which scenarios it is preferred to use\n",
    "MongoDB over SQL databases?"
   ]
  },
  {
   "attachments": {},
   "cell_type": "markdown",
   "metadata": {},
   "source": [
    "MongoDB:\n",
    "1. It is open source document orientied database system.\n",
    "2. It stores data in the format of BSON(similar to JSON)\n",
    "3. It falls under non-relational databases(NoSQL).\n",
    "4. It is dinamic schema databases.\n",
    "5. It is used to store semi-structrured data."
   ]
  },
  {
   "attachments": {},
   "cell_type": "markdown",
   "metadata": {},
   "source": [
    "NoSQL differ from SQL databases in several ways:\n",
    "1. These databases are uses flexible data models,such as key-value,document,etc.\n",
    "2. These are schema less(Dinamic schema).\n",
    "3. Thses are horizontal scalable,and data distributed across multiple servers.\n",
    "4.  Non-relational databases, like MongoDB, can offer high-performance reads and writes due to their optimized data access patterns, indexing mechanisms, and data distribution across multiple servers."
   ]
  },
  {
   "attachments": {},
   "cell_type": "markdown",
   "metadata": {},
   "source": [
    "MongoDB is often preferred over SQL databases in certain scenarios:\n",
    "1. Large and Growing Data.\n",
    "2. when data used to store is semi-structured.\n",
    "3. when data to store complex data structures,such as Arry,etc.\n",
    "4. To integrate large amount of diverse data.\n",
    "5. Delivering personalised content delivery."
   ]
  },
  {
   "attachments": {},
   "cell_type": "markdown",
   "metadata": {},
   "source": [
    "Q2. State and Explain the features of MongoDB."
   ]
  },
  {
   "attachments": {},
   "cell_type": "markdown",
   "metadata": {},
   "source": [
    "Features of MongoDB:\n",
    "1. Document-Oriented : It means it stores data in flexible,semi-structured documents called BSON(Binary JSON).Which helps to store complex data structures.\n",
    "2. Sclability : It is designed to scale horizontally across mutiple severs or machines,making it highly scalable.It supports auto sharding,which enables effient handling of large datasets and high-volume workloads.\n",
    "3. High Performane : It offers high-performance data operations due to its memory-mapped storage engine and support for indexing. It utilizes in-memory processing and provides fast reads and writes, making it suitable for real-time applications and demanding workloads. \n",
    "4. Flexible DataModel : MongoDB allows for flexible data modeling, as it does not enforce a rigid schema. Each document can have its own structure, and fields can vary across documents within a collection. This flexibility enables agile development and accommodates evolving data requirements.\n",
    "5. Indexing and Replication: MongoDB supports various indexing techniques, including primary, secondary, geospatial, and text indexes. Indexes help improve query performance by allowing faster data retrieval. Additionally, MongoDB provides built-in replication features, allowing for automatic synchronization of data across multiple replica sets for increased availability. \n",
    "6. Rich Ecosystem and Community Support: MongoDB has a vibrant and active community, providing extensive resources, documentation, and support. It offers official drivers and libraries for multiple programming languages, making it easier for developers to integrate MongoDB into their applications."
   ]
  },
  {
   "attachments": {},
   "cell_type": "markdown",
   "metadata": {},
   "source": [
    "Q3. Write a code to connect MongoDB to Python. Also, create a database and a collection in MongoDB."
   ]
  },
  {
   "cell_type": "code",
   "execution_count": null,
   "metadata": {},
   "outputs": [],
   "source": [
    "import pymongo\n",
    "\n",
    "uri = \"mongodb+srv://<username>:<password>@cluster0.rmbeuij.mongodb.net/?retryWrites=true&w=majority\"\n",
    "\n",
    "# Create a new client and connect to the server\n",
    "client = pymongo.MongoClient(uri)"
   ]
  },
  {
   "cell_type": "code",
   "execution_count": null,
   "metadata": {},
   "outputs": [],
   "source": [
    "client = pymongo.MongoClient(\"mongodb+srv://<username>:<password>@cluster0.rmbeuij.mongodb.net/?retryWrites=true&w=majority\")\n",
    "\n",
    "DataBase = client['DataBase'] \n",
    "\n",
    "collection = DataBase['Info']"
   ]
  },
  {
   "attachments": {},
   "cell_type": "markdown",
   "metadata": {},
   "source": [
    "Q4. Using the database and the collection created in question number 3, write a code to insert one record,\n",
    "and insert many records. Use the find() and find_one() methods to print the inserted record."
   ]
  },
  {
   "cell_type": "code",
   "execution_count": null,
   "metadata": {},
   "outputs": [],
   "source": [
    "collection.insert_one({\"name\":\"Bharath\",\"stream\":\"CSE\",\"age\":10})\n",
    "collection.insert_many([{\"key1\":'value1'},{'key2':'value2'},{'key3':'key4'}])"
   ]
  },
  {
   "cell_type": "code",
   "execution_count": null,
   "metadata": {},
   "outputs": [],
   "source": [
    "x = collection.find_one()\n",
    "\n",
    "print(x)\n",
    "\n",
    "x.close()\n",
    "\n",
    "x = collection.find({})\n",
    "\n",
    "for doc in x:\n",
    "    print(doc)\n",
    "\n",
    "x.close()"
   ]
  },
  {
   "attachments": {},
   "cell_type": "markdown",
   "metadata": {},
   "source": [
    "Q5. Explain how you can use the find() method to query the MongoDB database. Write a simple code to\n",
    "demonstrate this."
   ]
  },
  {
   "cell_type": "markdown",
   "metadata": {},
   "source": [
    "The find() method is used in MongoDB to query a collection and retrieve documents that match certain criteria. It allows you to specify conditions and filters to narrow down the search results."
   ]
  },
  {
   "cell_type": "code",
   "execution_count": null,
   "metadata": {},
   "outputs": [],
   "source": [
    "import pymongo\n",
    "\n",
    "uri = \"mongodb+srv://<username>:<password>@cluster0.rmbeuij.mongodb.net/?retryWrites=true&w=majority\"\n",
    "\n",
    "# Create a new client and connect to the server\n",
    "client = pymongo.MongoClient(uri)\n",
    "\n",
    "client = pymongo.MongoClient(\"mongodb+srv://<username>:<password>@cluster0.rmbeuij.mongodb.net/?retryWrites=true&w=majority\")\n",
    "\n",
    "DataBase = client['DataBase'] \n",
    "\n",
    "collection = DataBase['Info']\n",
    "\n",
    "query = {\"name\":\"Bharath\"}\n",
    "\n",
    "x = collection.find(query)\n",
    "\n",
    "for doc in x:\n",
    "    print(doc)\n",
    "\n",
    "x.close()\n",
    "\n",
    "client.close()"
   ]
  },
  {
   "attachments": {},
   "cell_type": "markdown",
   "metadata": {},
   "source": [
    "Q6. Explain the sort() method. Give an example to demonstrate sorting in MongoDB."
   ]
  },
  {
   "attachments": {},
   "cell_type": "markdown",
   "metadata": {},
   "source": [
    "The sort() method takes a document as its parameter, where you define the fields to sort by and the sorting order. The field names are specified as keys in the document, and the values can be either \"1\" for ascending order or \"-1\" for descending order."
   ]
  },
  {
   "cell_type": "code",
   "execution_count": null,
   "metadata": {},
   "outputs": [],
   "source": [
    "import pymongo\n",
    "\n",
    "uri = \"mongodb+srv://<username>:<password>@cluster0.rmbeuij.mongodb.net/?retryWrites=true&w=majority\"\n",
    "\n",
    "# Create a new client and connect to the server\n",
    "client = pymongo.MongoClient(uri)\n",
    "\n",
    "client = pymongo.MongoClient(\"mongodb+srv://<username>:<password>@cluster0.rmbeuij.mongodb.net/?retryWrites=true&w=majority\")\n",
    "\n",
    "DataBase = client['DataBase'] \n",
    "\n",
    "collection = DataBase['Info']\n",
    "\n",
    "\n",
    "result = collection.find().sort(\"age\", 1)\n",
    "\n",
    "for document in result:\n",
    "    print(document)"
   ]
  },
  {
   "attachments": {},
   "cell_type": "markdown",
   "metadata": {},
   "source": [
    "Q7. Explain why delete_one(), delete_many(), and drop() is used."
   ]
  },
  {
   "attachments": {},
   "cell_type": "markdown",
   "metadata": {},
   "source": [
    "delete_one : This method used to delete a single document that matches a specified condition from collection.It only deletes first document which matched specified condition. "
   ]
  },
  {
   "cell_type": "code",
   "execution_count": null,
   "metadata": {},
   "outputs": [],
   "source": [
    "collection.delete_one({\"name\": \"John\"})"
   ]
  },
  {
   "attachments": {},
   "cell_type": "markdown",
   "metadata": {},
   "source": [
    "The delete_many() method is similar to delete_one(), but it deletes multiple documents that match the specified condition. It also takes a filter parameter to define the matching condition. "
   ]
  },
  {
   "cell_type": "code",
   "execution_count": null,
   "metadata": {},
   "outputs": [],
   "source": [
    "collection.delete_many({\"age\": {\"$gte\": 30}})"
   ]
  },
  {
   "attachments": {},
   "cell_type": "markdown",
   "metadata": {},
   "source": [
    "The drop() method is used to remove an entire collection from a MongoDB database. It completely removes all the documents and associated indexes within the collection"
   ]
  },
  {
   "cell_type": "code",
   "execution_count": null,
   "metadata": {},
   "outputs": [],
   "source": [
    "collection.drop()"
   ]
  }
 ],
 "metadata": {
  "language_info": {
   "name": "python"
  },
  "orig_nbformat": 4
 },
 "nbformat": 4,
 "nbformat_minor": 2
}
